{
 "cells": [
  {
   "cell_type": "markdown",
   "metadata": {},
   "source": [
    "# Demonstração Interativa\n",
    "Este notebook carrega a imagem **Lena colorida**, converte para **tons de cinza** e em seguida para **binarizada (preto e branco)**, mostrando os resultados lado a lado."
   ]
  },
  {
   "cell_type": "code",
   "metadata": {},
   "source": [
    "import numpy as np\n",
    "import matplotlib.pyplot as plt\n",
    "from PIL import Image\n",
    "from skimage.filters import threshold_otsu\n",
    "\n",
    "# Caminhos das imagens\n",
    "input_color = 'assets/lena_color.png'\n",
    "output_gray = 'assets/lena_gray.png'\n",
    "output_binary = 'assets/lena_binary.png'\n",
    "\n",
    "# Carregar imagem colorida\n",
    "img_color = Image.open(input_color).convert('RGB')\n",
    "arr_color = np.array(img_color)"
   ]
  },
  {
   "cell_type": "code",
   "metadata": {},
   "source": [
    "# Converter para tons de cinza\n",
    "gray = (0.299 * arr_color[..., 0] + 0.587 * arr_color[..., 1] + 0.114 * arr_color[..., 2]).astype(np.uint8)\n",
    "img_gray = Image.fromarray(gray, mode='L')\n",
    "img_gray.save(output_gray)\n",
    "\n",
    "# Exibir tons de cinza\n",
    "plt.figure(figsize=(5,5))\n",
    "plt.title('Gray Scale')\n",
    "plt.imshow(gray, cmap='gray', vmin=0, vmax=255)\n",
    "plt.axis('off')\n",
    "plt.show()"
   ]
  },
  {
   "cell_type": "code",
   "metadata": {},
   "source": [
    "# Binarização com threshold de Otsu\n",
    "threshold = threshold_otsu(gray)\n",
    "binary = np.where(gray > threshold, 255, 0).astype(np.uint8)\n",
    "img_binary = Image.fromarray(binary, mode='L')\n",
    "img_binary.save(output_binary)\n",
    "print(f'Threshold de Otsu calculado: {threshold}')\n",
    "\n",
    "# Exibir binarização\n",
    "plt.figure(figsize=(5,5))\n",
    "plt.title('Binarized (Otsu)')\n",
    "plt.imshow(binary, cmap='gray', vmin=0, vmax=255)\n",
    "plt.axis('off')\n",
    "plt.show()"
   ]
  },
  {
   "cell_type": "markdown",
   "metadata": {},
   "source": [
    "## Comparação Lado a Lado\n",
    "Exibindo a imagem original, tons de cinza e binarizada."
   ]
  },
  {
   "cell_type": "code",
   "metadata": {},
   "source": [
    "fig, axes = plt.subplots(1, 3, figsize=(15,5))\n",
    "\n",
    "# Original colorida\n",
    "axes[0].imshow(arr_color)\n",
    "axes[0].set_title('Original (Colorida)')\n",
    "axes[0].axis('off')\n",
    "\n",
    "# Tons de cinza\n",
    "axes[1].imshow(gray, cmap='gray', vmin=0, vmax=255)\n",
    "axes[1].set_title('Tons de Cinza')\n",
    "axes[1].axis('off')\n",
    "\n",
    "# Binarizada\n",
    "axes[2].imshow(binary, cmap='gray', vmin=0, vmax=255)\n",
    "axes[2].set_title('Binarizada (Otsu)')\n",
    "axes[2].axis('off')\n",
    "\n",
    "plt.tight_layout()\n",
    "plt.show()"
   ]
  }
 ],
 "metadata": {
  "kernelspec": {
   "display_name": "Python 3",
   "language": "python",
   "name": "python3"
  },
  "language_info": {
   "name": "python",
   "version": "3.x"
  }
 },
 "nbformat": 4,
 "nbformat_minor": 5
}
